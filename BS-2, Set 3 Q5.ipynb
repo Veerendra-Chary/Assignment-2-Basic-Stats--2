{
 "cells": [
  {
   "cell_type": "code",
   "execution_count": 1,
   "id": "b7184977",
   "metadata": {},
   "outputs": [
    {
     "name": "stderr",
     "output_type": "stream",
     "text": [
      "C:\\Users\\cchar\\anaconda3\\lib\\site-packages\\statsmodels\\tsa\\base\\tsa_model.py:7: FutureWarning: pandas.Int64Index is deprecated and will be removed from pandas in a future version. Use pandas.Index with the appropriate dtype instead.\n",
      "  from pandas import (to_datetime, Int64Index, DatetimeIndex, Period,\n",
      "C:\\Users\\cchar\\anaconda3\\lib\\site-packages\\statsmodels\\tsa\\base\\tsa_model.py:7: FutureWarning: pandas.Float64Index is deprecated and will be removed from pandas in a future version. Use pandas.Index with the appropriate dtype instead.\n",
      "  from pandas import (to_datetime, Int64Index, DatetimeIndex, Period,\n"
     ]
    }
   ],
   "source": [
    "import pandas as pd\n",
    "import numpy as np\n",
    "import matplotlib.pyplot as plt\n",
    "import scipy.stats as stats\n",
    "import seaborn as sns\n",
    "import statsmodels.api as smf\n",
    "import warnings\n",
    "warnings.filterwarnings('ignore')"
   ]
  },
  {
   "cell_type": "markdown",
   "id": "9f76cb93",
   "metadata": {},
   "source": [
    "## Set 3"
   ]
  },
  {
   "cell_type": "markdown",
   "id": "87e3fb7a",
   "metadata": {},
   "source": [
    "#### Question 5\n",
    "In January 2005, a company that monitors Internet traffic (WebSideStory) reported that its sampling revealed that the Mozilla Firefox browser launched in 2004 had grabbed a 4.6% share of the market.\n",
    "If the sample were based on 2,000 users, could Microsoft conclude that Mozilla has a less than 5% share of the market?"
   ]
  },
  {
   "cell_type": "code",
   "execution_count": 3,
   "id": "ac7c4519",
   "metadata": {},
   "outputs": [
    {
     "data": {
      "text/plain": [
       "0.20582313410777142"
      ]
     },
     "execution_count": 3,
     "metadata": {},
     "output_type": "execute_result"
    }
   ],
   "source": [
    "\n",
    "p_hat = .046\n",
    "p = .05\n",
    "n = 2000\n",
    "\n",
    "# z_score = p_hat-p/(p(1-p)/n)**0.5\n",
    "z_score = (p_hat-p)/(np.sqrt((p*(1-p))/n))\n",
    "z_score\n",
    "\n",
    "p_value = stats.norm.sf(0.821)\n",
    "p_value"
   ]
  },
  {
   "cell_type": "markdown",
   "id": "ca2269b5",
   "metadata": {},
   "source": [
    "#### Null_hypothesis >= 5%"
   ]
  },
  {
   "cell_type": "markdown",
   "id": "959bfffb",
   "metadata": {},
   "source": [
    "#### Alternate hypothesis < 5%"
   ]
  },
  {
   "cell_type": "code",
   "execution_count": 4,
   "id": "2c42029e",
   "metadata": {},
   "outputs": [
    {
     "name": "stdout",
     "output_type": "stream",
     "text": [
      "No: Microsoft could not conclude that Mozilla has a less\n",
      "    than 5% share of the market even if the sample were \n",
      "    based on 2,000 users\n"
     ]
    }
   ],
   "source": [
    "if p_value>0.05:\n",
    "    print(\"\"\"No: Microsoft could not conclude that Mozilla has a less\n",
    "    than 5% share of the market even if the sample were \n",
    "    based on 2,000 users\"\"\")\n",
    "else:\n",
    "    print(\"Yes\")"
   ]
  }
 ],
 "metadata": {
  "kernelspec": {
   "display_name": "Python 3 (ipykernel)",
   "language": "python",
   "name": "python3"
  },
  "language_info": {
   "codemirror_mode": {
    "name": "ipython",
    "version": 3
   },
   "file_extension": ".py",
   "mimetype": "text/x-python",
   "name": "python",
   "nbconvert_exporter": "python",
   "pygments_lexer": "ipython3",
   "version": "3.9.7"
  }
 },
 "nbformat": 4,
 "nbformat_minor": 5
}
